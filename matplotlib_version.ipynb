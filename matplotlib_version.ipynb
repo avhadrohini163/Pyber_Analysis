{
 "cells": [
  {
   "cell_type": "code",
   "execution_count": 1,
   "id": "da63278d",
   "metadata": {},
   "outputs": [
    {
     "data": {
      "text/plain": [
       "'3.3.4'"
      ]
     },
     "execution_count": 1,
     "metadata": {},
     "output_type": "execute_result"
    }
   ],
   "source": [
    "import matplotlib\n",
    "matplotlib.__version__"
   ]
  },
  {
   "cell_type": "code",
   "execution_count": 2,
   "id": "d4ea2280",
   "metadata": {},
   "outputs": [],
   "source": [
    "import matplotlib.pyplot as plt"
   ]
  },
  {
   "cell_type": "code",
   "execution_count": 3,
   "id": "b2893924",
   "metadata": {},
   "outputs": [],
   "source": [
    "savings = [0,100,150,200,300,500,300,567,350,600,750,1000]\n",
    "months = ['Jan', 'Feb', 'March', 'Apr', 'May', 'Jun', 'July', 'Aug', 'Sept', 'Oct', 'Nov', 'Dec']"
   ]
  },
  {
   "cell_type": "code",
   "execution_count": 4,
   "id": "cecd77cb",
   "metadata": {},
   "outputs": [
    {
     "data": {
      "image/png": "[encoded data removed]",
      "text/plain": [
       "<Figure size 432x288 with 1 Axes>"
      ]
     },
     "metadata": {
      "needs_background": "light"
     },
     "output_type": "display_data"
    }
   ],
   "source": [
    "plt.plot(months, savings)\n",
    "plt.xlabel('Month')\n",
    "plt.ylabel('Savings ($)')\n",
    "plt.title('Savings Account Results')\n",
    "plt.show()"
   ]
  },
  {
   "cell_type": "code",
   "execution_count": 5,
   "id": "b8d93077",
   "metadata": {},
   "outputs": [
    {
     "name": "stdout",
     "output_type": "stream",
     "text": [
      "Requirement already satisfied: ipympl in c:\\users\\13374\\anaconda3\\envs\\pythondata\\lib\\site-packages (0.8.2)\n",
      "Requirement already satisfied: matplotlib>=2.0.0 in c:\\users\\13374\\anaconda3\\envs\\pythondata\\lib\\site-packages (from ipympl) (3.3.4)\n",
      "Requirement already satisfied: ipywidgets>=7.6.0 in c:\\users\\13374\\anaconda3\\envs\\pythondata\\lib\\site-packages (from ipympl) (7.6.3)\n",
      "Requirement already satisfied: ipykernel>=4.7 in c:\\users\\13374\\anaconda3\\envs\\pythondata\\lib\\site-packages (from ipympl) (5.3.4)\n",
      "Requirement already satisfied: ipython>=5.0.0 in c:\\users\\13374\\anaconda3\\envs\\pythondata\\lib\\site-packages (from ipykernel>=4.7->ipympl) (7.22.0)\n",
      "Requirement already satisfied: tornado>=4.2 in c:\\users\\13374\\anaconda3\\envs\\pythondata\\lib\\site-packages (from ipykernel>=4.7->ipympl) (6.1)\n",
      "Requirement already satisfied: traitlets>=4.1.0 in c:\\users\\13374\\anaconda3\\envs\\pythondata\\lib\\site-packages (from ipykernel>=4.7->ipympl) (5.0.5)\n",
      "Requirement already satisfied: jupyter-client in c:\\users\\13374\\anaconda3\\envs\\pythondata\\lib\\site-packages (from ipykernel>=4.7->ipympl) (6.1.12)\n",
      "Requirement already satisfied: jedi>=0.16 in c:\\users\\13374\\anaconda3\\envs\\pythondata\\lib\\site-packages (from ipython>=5.0.0->ipykernel>=4.7->ipympl) (0.17.2)\n",
      "Requirement already satisfied: setuptools>=18.5 in c:\\users\\13374\\anaconda3\\envs\\pythondata\\lib\\site-packages (from ipython>=5.0.0->ipykernel>=4.7->ipympl) (52.0.0.post20210125)\n",
      "Requirement already satisfied: pygments in c:\\users\\13374\\anaconda3\\envs\\pythondata\\lib\\site-packages (from ipython>=5.0.0->ipykernel>=4.7->ipympl) (2.8.1)\n",
      "Requirement already satisfied: decorator in c:\\users\\13374\\anaconda3\\envs\\pythondata\\lib\\site-packages (from ipython>=5.0.0->ipykernel>=4.7->ipympl) (5.0.6)\n",
      "Requirement already satisfied: prompt-toolkit!=3.0.0,!=3.0.1,<3.1.0,>=2.0.0 in c:\\users\\13374\\anaconda3\\envs\\pythondata\\lib\\site-packages (from ipython>=5.0.0->ipykernel>=4.7->ipympl) (3.0.17)\n",
      "Requirement already satisfied: colorama in c:\\users\\13374\\anaconda3\\envs\\pythondata\\lib\\site-packages (from ipython>=5.0.0->ipykernel>=4.7->ipympl) (0.4.4)\n",
      "Requirement already satisfied: backcall in c:\\users\\13374\\anaconda3\\envs\\pythondata\\lib\\site-packages (from ipython>=5.0.0->ipykernel>=4.7->ipympl) (0.2.0)\n",
      "Requirement already satisfied: pickleshare in c:\\users\\13374\\anaconda3\\envs\\pythondata\\lib\\site-packages (from ipython>=5.0.0->ipykernel>=4.7->ipympl) (0.7.5)\n",
      "Requirement already satisfied: nbformat>=4.2.0 in c:\\users\\13374\\anaconda3\\envs\\pythondata\\lib\\site-packages (from ipywidgets>=7.6.0->ipympl) (5.1.3)\n",
      "Requirement already satisfied: widgetsnbextension~=3.5.0 in c:\\users\\13374\\anaconda3\\envs\\pythondata\\lib\\site-packages (from ipywidgets>=7.6.0->ipympl) (3.5.1)\n",
      "Requirement already satisfied: jupyterlab-widgets>=1.0.0 in c:\\users\\13374\\anaconda3\\envs\\pythondata\\lib\\site-packages (from ipywidgets>=7.6.0->ipympl) (1.0.0)\n",
      "Requirement already satisfied: parso<0.8.0,>=0.7.0 in c:\\users\\13374\\anaconda3\\envs\\pythondata\\lib\\site-packages (from jedi>=0.16->ipython>=5.0.0->ipykernel>=4.7->ipympl) (0.7.0)\n",
      "Requirement already satisfied: python-dateutil>=2.1 in c:\\users\\13374\\anaconda3\\envs\\pythondata\\lib\\site-packages (from matplotlib>=2.0.0->ipympl) (2.8.1)\n",
      "Requirement already satisfied: numpy>=1.15 in c:\\users\\13374\\anaconda3\\envs\\pythondata\\lib\\site-packages (from matplotlib>=2.0.0->ipympl) (1.20.1)\n",
      "Requirement already satisfied: cycler>=0.10 in c:\\users\\13374\\anaconda3\\envs\\pythondata\\lib\\site-packages (from matplotlib>=2.0.0->ipympl) (0.10.0)\n",
      "Requirement already satisfied: pyparsing!=2.0.4,!=2.1.2,!=2.1.6,>=2.0.3 in c:\\users\\13374\\anaconda3\\envs\\pythondata\\lib\\site-packages (from matplotlib>=2.0.0->ipympl) (2.4.7)\n",
      "Requirement already satisfied: kiwisolver>=1.0.1 in c:\\users\\13374\\anaconda3\\envs\\pythondata\\lib\\site-packages (from matplotlib>=2.0.0->ipympl) (1.3.1)\n",
      "Requirement already satisfied: pillow>=6.2.0 in c:\\users\\13374\\anaconda3\\envs\\pythondata\\lib\\site-packages (from matplotlib>=2.0.0->ipympl) (8.2.0)\n",
      "Requirement already satisfied: six in c:\\users\\13374\\anaconda3\\envs\\pythondata\\lib\\site-packages (from cycler>=0.10->matplotlib>=2.0.0->ipympl) (1.15.0)\n",
      "Requirement already satisfied: ipython-genutils in c:\\users\\13374\\anaconda3\\envs\\pythondata\\lib\\site-packages (from nbformat>=4.2.0->ipywidgets>=7.6.0->ipympl) (0.2.0)\n",
      "Requirement already satisfied: jsonschema!=2.5.0,>=2.4 in c:\\users\\13374\\anaconda3\\envs\\pythondata\\lib\\site-packages (from nbformat>=4.2.0->ipywidgets>=7.6.0->ipympl) (3.2.0)\n",
      "Requirement already satisfied: jupyter-core in c:\\users\\13374\\anaconda3\\envs\\pythondata\\lib\\site-packages (from nbformat>=4.2.0->ipywidgets>=7.6.0->ipympl) (4.7.1)\n",
      "Requirement already satisfied: attrs>=17.4.0 in c:\\users\\13374\\anaconda3\\envs\\pythondata\\lib\\site-packages (from jsonschema!=2.5.0,>=2.4->nbformat>=4.2.0->ipywidgets>=7.6.0->ipympl) (20.3.0)\n",
      "Requirement already satisfied: pyrsistent>=0.14.0 in c:\\users\\13374\\anaconda3\\envs\\pythondata\\lib\\site-packages (from jsonschema!=2.5.0,>=2.4->nbformat>=4.2.0->ipywidgets>=7.6.0->ipympl) (0.17.3)\n",
      "Requirement already satisfied: wcwidth in c:\\users\\13374\\anaconda3\\envs\\pythondata\\lib\\site-packages (from prompt-toolkit!=3.0.0,!=3.0.1,<3.1.0,>=2.0.0->ipython>=5.0.0->ipykernel>=4.7->ipympl) (0.2.5)\n",
      "Requirement already satisfied: notebook>=4.4.1 in c:\\users\\13374\\anaconda3\\envs\\pythondata\\lib\\site-packages (from widgetsnbextension~=3.5.0->ipywidgets>=7.6.0->ipympl) (6.3.0)\n",
      "Requirement already satisfied: nbconvert in c:\\users\\13374\\anaconda3\\envs\\pythondata\\lib\\site-packages (from notebook>=4.4.1->widgetsnbextension~=3.5.0->ipywidgets>=7.6.0->ipympl) (6.0.7)\n",
      "Requirement already satisfied: Send2Trash>=1.5.0 in c:\\users\\13374\\anaconda3\\envs\\pythondata\\lib\\site-packages (from notebook>=4.4.1->widgetsnbextension~=3.5.0->ipywidgets>=7.6.0->ipympl) (1.5.0)\n",
      "Requirement already satisfied: argon2-cffi in c:\\users\\13374\\anaconda3\\envs\\pythondata\\lib\\site-packages (from notebook>=4.4.1->widgetsnbextension~=3.5.0->ipywidgets>=7.6.0->ipympl) (20.1.0)\n",
      "Requirement already satisfied: pyzmq>=17 in c:\\users\\13374\\anaconda3\\envs\\pythondata\\lib\\site-packages (from notebook>=4.4.1->widgetsnbextension~=3.5.0->ipywidgets>=7.6.0->ipympl) (20.0.0)\n",
      "Requirement already satisfied: prometheus-client in c:\\users\\13374\\anaconda3\\envs\\pythondata\\lib\\site-packages (from notebook>=4.4.1->widgetsnbextension~=3.5.0->ipywidgets>=7.6.0->ipympl) (0.10.1)\n",
      "Requirement already satisfied: jinja2 in c:\\users\\13374\\anaconda3\\envs\\pythondata\\lib\\site-packages (from notebook>=4.4.1->widgetsnbextension~=3.5.0->ipywidgets>=7.6.0->ipympl) (2.11.3)\n",
      "Requirement already satisfied: terminado>=0.8.3 in c:\\users\\13374\\anaconda3\\envs\\pythondata\\lib\\site-packages (from notebook>=4.4.1->widgetsnbextension~=3.5.0->ipywidgets>=7.6.0->ipympl) (0.9.4)\n",
      "Requirement already satisfied: pywin32>=1.0 in c:\\users\\13374\\anaconda3\\envs\\pythondata\\lib\\site-packages (from jupyter-core->nbformat>=4.2.0->ipywidgets>=7.6.0->ipympl) (228)\n",
      "Requirement already satisfied: pywinpty>=0.5 in c:\\users\\13374\\anaconda3\\envs\\pythondata\\lib\\site-packages (from terminado>=0.8.3->notebook>=4.4.1->widgetsnbextension~=3.5.0->ipywidgets>=7.6.0->ipympl) (0.5.7)\n",
      "Requirement already satisfied: cffi>=1.0.0 in c:\\users\\13374\\anaconda3\\envs\\pythondata\\lib\\site-packages (from argon2-cffi->notebook>=4.4.1->widgetsnbextension~=3.5.0->ipywidgets>=7.6.0->ipympl) (1.14.5)\n",
      "Requirement already satisfied: pycparser in c:\\users\\13374\\anaconda3\\envs\\pythondata\\lib\\site-packages (from cffi>=1.0.0->argon2-cffi->notebook>=4.4.1->widgetsnbextension~=3.5.0->ipywidgets>=7.6.0->ipympl) (2.20)\n",
      "Requirement already satisfied: MarkupSafe>=0.23 in c:\\users\\13374\\anaconda3\\envs\\pythondata\\lib\\site-packages (from jinja2->notebook>=4.4.1->widgetsnbextension~=3.5.0->ipywidgets>=7.6.0->ipympl) (1.1.1)\n",
      "Requirement already satisfied: jupyterlab-pygments in c:\\users\\13374\\anaconda3\\envs\\pythondata\\lib\\site-packages (from nbconvert->notebook>=4.4.1->widgetsnbextension~=3.5.0->ipywidgets>=7.6.0->ipympl) (0.1.2)\n",
      "Requirement already satisfied: bleach in c:\\users\\13374\\anaconda3\\envs\\pythondata\\lib\\site-packages (from nbconvert->notebook>=4.4.1->widgetsnbextension~=3.5.0->ipywidgets>=7.6.0->ipympl) (3.3.0)\n",
      "Requirement already satisfied: defusedxml in c:\\users\\13374\\anaconda3\\envs\\pythondata\\lib\\site-packages (from nbconvert->notebook>=4.4.1->widgetsnbextension~=3.5.0->ipywidgets>=7.6.0->ipympl) (0.7.1)\n",
      "Requirement already satisfied: nbclient<0.6.0,>=0.5.0 in c:\\users\\13374\\anaconda3\\envs\\pythondata\\lib\\site-packages (from nbconvert->notebook>=4.4.1->widgetsnbextension~=3.5.0->ipywidgets>=7.6.0->ipympl) (0.5.3)\n",
      "Requirement already satisfied: entrypoints>=0.2.2 in c:\\users\\13374\\anaconda3\\envs\\pythondata\\lib\\site-packages (from nbconvert->notebook>=4.4.1->widgetsnbextension~=3.5.0->ipywidgets>=7.6.0->ipympl) (0.3)\n",
      "Requirement already satisfied: mistune<2,>=0.8.1 in c:\\users\\13374\\anaconda3\\envs\\pythondata\\lib\\site-packages (from nbconvert->notebook>=4.4.1->widgetsnbextension~=3.5.0->ipywidgets>=7.6.0->ipympl) (0.8.4)\n",
      "Requirement already satisfied: testpath in c:\\users\\13374\\anaconda3\\envs\\pythondata\\lib\\site-packages (from nbconvert->notebook>=4.4.1->widgetsnbextension~=3.5.0->ipywidgets>=7.6.0->ipympl) (0.4.4)\n",
      "Requirement already satisfied: pandocfilters>=1.4.1 in c:\\users\\13374\\anaconda3\\envs\\pythondata\\lib\\site-packages (from nbconvert->notebook>=4.4.1->widgetsnbextension~=3.5.0->ipywidgets>=7.6.0->ipympl) (1.4.3)\n",
      "Requirement already satisfied: nest-asyncio in c:\\users\\13374\\anaconda3\\envs\\pythondata\\lib\\site-packages (from nbclient<0.6.0,>=0.5.0->nbconvert->notebook>=4.4.1->widgetsnbextension~=3.5.0->ipywidgets>=7.6.0->ipympl) (1.5.1)\n",
      "Requirement already satisfied: async-generator in c:\\users\\13374\\anaconda3\\envs\\pythondata\\lib\\site-packages (from nbclient<0.6.0,>=0.5.0->nbconvert->notebook>=4.4.1->widgetsnbextension~=3.5.0->ipywidgets>=7.6.0->ipympl) (1.10)\n",
      "Requirement already satisfied: webencodings in c:\\users\\13374\\anaconda3\\envs\\pythondata\\lib\\site-packages (from bleach->nbconvert->notebook>=4.4.1->widgetsnbextension~=3.5.0->ipywidgets>=7.6.0->ipympl) (0.5.1)\n",
      "Requirement already satisfied: packaging in c:\\users\\13374\\anaconda3\\envs\\pythondata\\lib\\site-packages (from bleach->nbconvert->notebook>=4.4.1->widgetsnbextension~=3.5.0->ipywidgets>=7.6.0->ipympl) (20.9)\n"
     ]
    }
   ],
   "source": [
    "!pip install ipympl"
   ]
  },
  {
   "cell_type": "code",
   "execution_count": 6,
   "id": "bb074f7c",
   "metadata": {},
   "outputs": [
    {
     "data": {
      "text/plain": [
       "'3.3.4'"
      ]
     },
     "execution_count": 6,
     "metadata": {},
     "output_type": "execute_result"
    }
   ],
   "source": [
    "import matplotlib\n",
    "matplotlib.__version__"
   ]
  },
  {
   "cell_type": "code",
   "execution_count": 7,
   "id": "c2067586",
   "metadata": {},
   "outputs": [
    {
     "name": "stderr",
     "output_type": "stream",
     "text": [
      "UsageError: Line magic function `%matlpotlib` not found.\n"
     ]
    }
   ],
   "source": [
    "%matlpotlib inline\n"
   ]
  },
  {
   "cell_type": "code",
   "execution_count": null,
   "id": "5655d30d",
   "metadata": {},
   "outputs": [],
   "source": [
    "!pip install ipympl\n",
    "%matplotlib inline"
   ]
  },
  {
   "cell_type": "code",
   "execution_count": null,
   "id": "494c4ead",
   "metadata": {},
   "outputs": [],
   "source": [
    "import matplotlib\n",
    "matplotlib.__version__"
   ]
  },
  {
   "cell_type": "code",
   "execution_count": null,
   "id": "46cae9c5",
   "metadata": {},
   "outputs": [],
   "source": []
  }
 ],
 "metadata": {
  "kernelspec": {
   "display_name": "Python 3",
   "language": "python",
   "name": "python3"
  },
  "language_info": {
   "codemirror_mode": {
    "name": "ipython",
    "version": 3
   },
   "file_extension": ".py",
   "mimetype": "text/x-python",
   "name": "python",
   "nbconvert_exporter": "python",
   "pygments_lexer": "ipython3",
   "version": "3.9.4"
  }
 },
 "nbformat": 4,
 "nbformat_minor": 5
}
